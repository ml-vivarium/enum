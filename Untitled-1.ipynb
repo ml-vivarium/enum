{
 "cells": [
  {
   "cell_type": "code",
   "execution_count": 1,
   "metadata": {},
   "outputs": [],
   "source": [
    "import jax\n",
    "import ca_eca\n",
    "from IPython.display import SVG\n",
    "import plot\n",
    "import importlib\n",
    "import jax.numpy as np\n",
    "import numpy as onp\n",
    "from jax import lax, ops, jit, random, vmap\n",
    "import common"
   ]
  },
  {
   "cell_type": "code",
   "execution_count": 2,
   "metadata": {},
   "outputs": [
    {
     "data": {
      "text/plain": [
       "<module 'ca_eca' from '/workspaces/enum/ca_eca.py'>"
      ]
     },
     "execution_count": 2,
     "metadata": {},
     "output_type": "execute_result"
    }
   ],
   "source": [
    "importlib.reload(plot)\n",
    "importlib.reload(common)\n",
    "importlib.reload(ca_eca)"
   ]
  },
  {
   "cell_type": "markdown",
   "metadata": {},
   "source": [
    "## plot"
   ]
  },
  {
   "cell_type": "code",
   "execution_count": 3,
   "metadata": {},
   "outputs": [
    {
     "name": "stderr",
     "output_type": "stream",
     "text": [
      "WARNING:absl:No GPU/TPU found, falling back to CPU. (Set TF_CPP_MIN_LOG_LEVEL=0 and rerun for more info.)\n"
     ]
    },
    {
     "data": {
      "image/svg+xml": "<svg>\n  <image width=\"160\" height=\"80\" style=\"image-rendering:pixelated\" href=\"data:image/png;base64,iVBORw0KGgoAAAANSUhEUgAAAAgAAAAQCAAAAAAO4WGhAAAALklEQVR4nDXMwQkAMAzEMO2/dEvg3E+aYOTtaWrvs4saNWqskSNHjhw5cuQc8wFA51+hnuAcnAAAAABJRU5ErkJggg==\"/>\n  </svg>",
      "text/plain": [
       "<IPython.core.display.SVG object>"
      ]
     },
     "execution_count": 3,
     "metadata": {},
     "output_type": "execute_result"
    }
   ],
   "source": [
    "plot.array_plot(jax.vmap(common.integer_digits_fn(2,8))(np.arange(16)), 10)"
   ]
  },
  {
   "cell_type": "markdown",
   "metadata": {},
   "source": [
    "## eca"
   ]
  },
  {
   "cell_type": "code",
   "execution_count": 4,
   "metadata": {},
   "outputs": [
    {
     "data": {
      "image/svg+xml": "<svg>\n  <image width=\"60\" height=\"60\" style=\"image-rendering:pixelated\" href=\"data:image/png;base64,iVBORw0KGgoAAAANSUhEUgAAAB4AAAAeCAAAAAAeW/F+AAAAuElEQVR4nHWSARKEMAgD9/+f5u482AYdO47aQggkpVzwe/Yio98dL+EL+8Bzotf/DU9iefCzsHXnJ7HXe+FJ3j4PPIt3ssWTvJFly4c3sga/eCOLwzMVW7hyfnbF7pSevzYvPff/Q2/KoxFpyTK8ZW8piw2FqUcWI+CQDydV4RRYTuqN4DOB4s7cjtVihCbBHCg1UcFhawdVt7RYojEeW9Iab9BRNyxmnNWvJbWFxz4vLJV9e20Uig+fygkUHLc9dgAAAABJRU5ErkJggg==\"/>\n  </svg>",
      "text/plain": [
       "<IPython.core.display.SVG object>"
      ]
     },
     "execution_count": 4,
     "metadata": {},
     "output_type": "execute_result"
    }
   ],
   "source": [
    "plot.array_plot(ca_eca.run_eca2(common.integer_digits_fn(2, 8)(30) , common.centered_init_k2_d1_fn(30)(10), 30)[1], 2)"
   ]
  },
  {
   "cell_type": "code",
   "execution_count": 6,
   "metadata": {},
   "outputs": [],
   "source": [
    "result = vmap(lambda r: ca_eca.run_eca2(common.integer_digits_fn(2, 8)(r) , common.centered_init_k2_d1_fn(30)(1), 30))(np.array([1,30,110]))"
   ]
  },
  {
   "cell_type": "code",
   "execution_count": 8,
   "metadata": {},
   "outputs": [
    {
     "data": {
      "text/plain": [
       "(DeviceArray([[0, 0, 0, 0, 0, 0, 0, 0, 0, 0, 0, 0, 0, 0, 1, 0, 0, 0, 0, 0,\n",
       "               0, 0, 0, 0, 0, 0, 0, 0, 0, 0],\n",
       "              [1, 1, 1, 0, 1, 0, 1, 0, 1, 1, 0, 1, 0, 1, 0, 0, 1, 0, 0, 1,\n",
       "               1, 1, 1, 1, 1, 0, 0, 1, 0, 1],\n",
       "              [1, 0, 0, 0, 1, 1, 0, 0, 0, 0, 0, 0, 1, 1, 1, 0, 1, 0, 0, 1,\n",
       "               1, 1, 1, 0, 0, 0, 1, 1, 1, 0]], dtype=int32),\n",
       " DeviceArray([[[1, 1, 1, ..., 1, 1, 1],\n",
       "               [0, 0, 0, ..., 0, 0, 0],\n",
       "               [1, 1, 1, ..., 1, 1, 1],\n",
       "               ...,\n",
       "               [0, 0, 0, ..., 0, 0, 0],\n",
       "               [1, 1, 1, ..., 1, 1, 1],\n",
       "               [0, 0, 0, ..., 0, 0, 0]],\n",
       " \n",
       "              [[0, 0, 0, ..., 0, 0, 0],\n",
       "               [0, 0, 0, ..., 0, 0, 0],\n",
       "               [0, 0, 0, ..., 0, 0, 0],\n",
       "               ...,\n",
       "               [1, 1, 0, ..., 1, 0, 1],\n",
       "               [0, 0, 1, ..., 1, 0, 1],\n",
       "               [1, 1, 1, ..., 1, 0, 1]],\n",
       " \n",
       "              [[0, 0, 0, ..., 0, 0, 0],\n",
       "               [0, 0, 0, ..., 0, 0, 0],\n",
       "               [0, 0, 0, ..., 0, 0, 0],\n",
       "               ...,\n",
       "               [1, 1, 1, ..., 1, 1, 0],\n",
       "               [1, 0, 0, ..., 0, 1, 1],\n",
       "               [1, 0, 0, ..., 1, 1, 0]]], dtype=int32))"
      ]
     },
     "execution_count": 8,
     "metadata": {},
     "output_type": "execute_result"
    }
   ],
   "source": [
    "result"
   ]
  },
  {
   "cell_type": "markdown",
   "metadata": {},
   "source": [
    "## totalistic 1d"
   ]
  },
  {
   "cell_type": "code",
   "execution_count": 4,
   "metadata": {},
   "outputs": [],
   "source": [
    "import ca_d1_totalistic"
   ]
  },
  {
   "cell_type": "code",
   "execution_count": 8,
   "metadata": {},
   "outputs": [
    {
     "data": {
      "text/plain": [
       "DeviceArray([0, 0, 0, 0, 0, 0, 1], dtype=int32)"
      ]
     },
     "execution_count": 8,
     "metadata": {},
     "output_type": "execute_result"
    }
   ],
   "source": [
    "ca_d1_totalistic.totalistic_d1_bitcode(3,1)(1)"
   ]
  },
  {
   "cell_type": "code",
   "execution_count": 9,
   "metadata": {},
   "outputs": [
    {
     "data": {
      "text/plain": [
       "DeviceArray([0, 0, 0, 0, 1, 0, 0, 0, 0], dtype=int32)"
      ]
     },
     "execution_count": 9,
     "metadata": {},
     "output_type": "execute_result"
    }
   ],
   "source": [
    "common.centered_init_k2_d1_fn(9)(1)"
   ]
  },
  {
   "cell_type": "code",
   "execution_count": 9,
   "metadata": {},
   "outputs": [],
   "source": [
    "from functools import partial"
   ]
  },
  {
   "cell_type": "code",
   "execution_count": 16,
   "metadata": {},
   "outputs": [],
   "source": []
  },
  {
   "cell_type": "code",
   "execution_count": null,
   "metadata": {},
   "outputs": [],
   "source": [
    "for state in enum():\n",
    "    for rule in enum():\n",
    "        evolutions = vmap(ca)(rule, vmap(simple_init)(state))"
   ]
  },
  {
   "cell_type": "code",
   "execution_count": null,
   "metadata": {},
   "outputs": [],
   "source": [
    "e = enum([('state', max_size, batch_size), ('rule', max_size, batch_size)], init={'state':0,'rule':10})\n",
    "\n",
    "{'state':[...], 'rule':iterable}\n",
    "\n",
    "for state_batch in e:\n",
    "    state_batch['state'] # statebatch cannot be a generator\n",
    "    for rule_batch in state_batch['rule']:\n",
    "        f(rule_batch['state'], rule_batch['rule'])"
   ]
  },
  {
   "cell_type": "code",
   "execution_count": 3,
   "metadata": {},
   "outputs": [],
   "source": [
    "def enum(i_max, i_size, j_max, j_size):\n",
    "    def enum_sub(i):\n",
    "        for j in range(j_max):\n",
    "            yield (i,j, nth_chunk(i_size, i), nth_chunk(j_size, j))\n",
    "    for i in range(i_max):\n",
    "        yield enum_sub(i)"
   ]
  },
  {
   "cell_type": "code",
   "execution_count": 7,
   "metadata": {},
   "outputs": [],
   "source": [
    "import numpy as np"
   ]
  },
  {
   "cell_type": "code",
   "execution_count": 35,
   "metadata": {},
   "outputs": [
    {
     "data": {
      "text/plain": [
       "(DeviceArray(0, dtype=int32),\n",
       " DeviceArray(0, dtype=int32),\n",
       " DeviceArray(0, dtype=int32),\n",
       " DeviceArray(0, dtype=int32),\n",
       " DeviceArray(0, dtype=int32),\n",
       " DeviceArray(0, dtype=int32),\n",
       " DeviceArray(0, dtype=int32),\n",
       " DeviceArray(1, dtype=int32))"
      ]
     },
     "execution_count": 35,
     "metadata": {},
     "output_type": "execute_result"
    }
   ],
   "source": [
    "np.unravel_index(1, (2,)*8)"
   ]
  },
  {
   "cell_type": "code",
   "execution_count": 17,
   "metadata": {},
   "outputs": [],
   "source": [
    "ef = evolve_fn(\n",
    "        ca_d1_totalistic.totalistic_d1_r1_step_fn, \n",
    "        ca_d1_totalistic.totalistic_d1_bitcode(3,1),\n",
    "        common.centered_init_k2_d1_fn(9)\n",
    "        )"
   ]
  },
  {
   "cell_type": "code",
   "execution_count": 21,
   "metadata": {},
   "outputs": [
    {
     "data": {
      "text/plain": [
       "(DeviceArray([2, 2, 2, 2, 2, 2, 2, 2, 2], dtype=int32),\n",
       " DeviceArray([[0, 2, 2, 2, 0, 0, 0, 0, 0],\n",
       "              [2, 1, 2, 1, 2, 0, 0, 0, 0],\n",
       "              [0, 2, 1, 2, 0, 2, 0, 0, 2],\n",
       "              [1, 0, 2, 0, 1, 2, 2, 2, 2],\n",
       "              [0, 0, 2, 0, 0, 2, 2, 2, 2],\n",
       "              [2, 2, 2, 2, 2, 1, 2, 2, 1],\n",
       "              [2, 2, 2, 2, 2, 2, 2, 2, 2],\n",
       "              [2, 2, 2, 2, 2, 2, 2, 2, 2],\n",
       "              [2, 2, 2, 2, 2, 2, 2, 2, 2],\n",
       "              [2, 2, 2, 2, 2, 2, 2, 2, 2]], dtype=int32))"
      ]
     },
     "execution_count": 21,
     "metadata": {},
     "output_type": "execute_result"
    }
   ],
   "source": [
    "ef(2049, 4, 10)"
   ]
  },
  {
   "cell_type": "code",
   "execution_count": 24,
   "metadata": {},
   "outputs": [
    {
     "data": {
      "image/svg+xml": "<svg>\n  <image width=\"30\" height=\"30\" style=\"image-rendering:pixelated\" href=\"data:image/png;base64,iVBORw0KGgoAAAANSUhEUgAAAB4AAAAeCAAAAAAeW/F+AAAAnElEQVR4nH2SSxaAMAgD5/6XRl/LJ2gpGy0RyhAxDbAedPUmv+JFhlv1kkZ5VY7V696xOTuG5sTjKHt6qPb0AObpAczTA5inJzC8wRGMBOYARgHzB4vz0n5gFLDXd38N8567XsEomhhfmus2BEBn5rMs6qW1pZKyDWvLSrD4OpChhlH3HdmoYcT9nJj6Fcv9tEKdSV5ZpYCF+/v0AIkXT82uLrpuAAAAAElFTkSuQmCC\"/>\n  </svg>",
      "text/plain": [
       "<IPython.core.display.SVG object>"
      ]
     },
     "execution_count": 24,
     "metadata": {},
     "output_type": "execute_result"
    }
   ],
   "source": [
    "plot.array_plot(result[1][2])"
   ]
  },
  {
   "cell_type": "code",
   "execution_count": 36,
   "metadata": {},
   "outputs": [],
   "source": [
    "def integer_digits(i, base, n):\n",
    "    def digits_body(carry, input_slice, base):\n",
    "      n, r = np.divmod(carry,base)\n",
    "      return n, r\n",
    "\n",
    "    result = lax.scan(\n",
    "      lambda a,b: digits_body(a ,b, base), \n",
    "      i, \n",
    "      np.zeros([n], np.int32))\n",
    " \n",
    "    return np.flip(result[1])\n",
    "\n",
    "\n",
    "class CA_1D_K2R1:\n",
    "\n",
    "    def bitcode(this, rule):\n",
    "        return integer_digits(rule, 2 8)\n",
    "        \n",
    "    \n",
    "    \n",
    "    def evolve(this, codes, states):\n",
    "        bitcodes = this.bitcode(codes)\n",
    "\n"
   ]
  },
  {
   "cell_type": "code",
   "execution_count": null,
   "metadata": {},
   "outputs": [],
   "source": [
    "# rules are specific to details of system, states are not\n",
    "\n",
    "ca.rules()\n",
    "ca.rules(rng=0)\n",
    "\n",
    "# can have as many names as we want here\n",
    "states(ca)\n",
    "states_random(ca)\n",
    "\n",
    "structured_states\n",
    "random_states\n",
    "\n",
    "# annoying mismatch when working in non-batch mode\n",
    "# plugging in the output?\n",
    "states.get([1])\n",
    "\n",
    "ca([30], states(ca).get())\n",
    "\n",
    "states[0] # (ids, values)\n",
    "rules[0]  # ids?\n",
    "random_rules[0] # (enum_ids, canonical_ids) \n",
    "# dont think there is a use for the enum ids for random rules\n",
    "# for states, need the enum id so we can recreate the state so we can re-run without\n",
    "# having to save the whole state\n",
    "# for rules case, already have the canonical id in hand\n",
    "# might only be relevant if we want to offset by element #\n",
    "\n",
    "ca.evolve()\n",
    "ca.evolve_batch()\n",
    "ca(rules, states) # much nicer\n",
    "# can add some reshape args to ca fn?\n",
    "\n",
    "# first iterate through rules\n",
    "for rules in ca.rules(batch_size=256):\n",
    "    # for each rule, iterate thru states\n",
    "    for s, _ in states.random(ca, batch_size=1):\n",
    "        # run all rules for all states\n",
    "        ca.evolve(rules, states)\n",
    "        vamap(model_train)()\n",
    "    # yield model_per_rule\n",
    "\n",
    "# first iterate through states\n",
    "for s, _ in states.centered(ca, batch_size=1, offset=100):\n",
    "    # for each state, iterate through rules\n",
    "    for rules in ca.rules(batch_size=256):\n",
    "        # train classifier that sees different rules per state\n",
    "        model_train()\n",
    "\n",
    "\n",
    "# do we need to return indices? which ones?\n",
    "# for state, need to return the number in the enumeration, bc \"enumerate\" will just give the batch number\n",
    "for seed, _ in states.random(batch_offset=10, batch_size=10, rng_seed=0):\n",
    "    for rule in ca.rules(batch_size=20, rng=0):\n",
    "\n",
    "\n",
    "batch(fn, max)\n",
    "\n",
    "myfn = callable_iterable_fn(fn, max)\n",
    "# but ca() never expects naked input (but it could deal with both cases)\n",
    "batch(myfn, 16)\n",
    "myfn.batch(16)\n",
    "\n",
    "state.fn \n",
    "state.max\n",
    "state.batch_size\n",
    "state.size\n",
    "\n",
    "\n",
    "# ^ have some need to get specific values in the given enumeration. the 657th seed or rule\n",
    "random_seed.get([677,678]) # decoded state. implies need to return per-element ids from iterator\n",
    "random_rule.get([677,678]) # canonical rule number.. dont think we need this since the \n",
    "# enumeration fn will return the canonical rule number, and we only deal with offsets at the batch\n",
    "# level\n",
    "\n",
    "ca = ca_1d_k2r1(\n",
    "    width=25,\n",
    "    steps=10\n",
    "    rules=[110,30,45], # what would it mean for this to be a fn? same contract as for seed?\n",
    "    # abstraction needs to specify the size & how to get batches at offsets\n",
    "    seed=\"random\")) # how to pass random seed value?\n",
    "    # seed construction process needs to know details of the system -- so the args to the fn \n",
    "    # must be specific to the system\n",
    "             \n",
    "\n",
    "# seeds/rules \n",
    "# iterable\n",
    "# also, get nth & canonicalize\n",
    "\n",
    "seeds.__get_item__(0)\n",
    "seeds(numbers) #-> representation\n",
    "\n",
    "\n",
    "# get the nth rule intead of nth batch\n",
    "ca.get(0,10)\n",
    "ca.evolve()\n",
    "\n"
   ]
  },
  {
   "cell_type": "code",
   "execution_count": 1,
   "metadata": {},
   "outputs": [
    {
     "data": {
      "text/plain": [
       "1"
      ]
     },
     "execution_count": 1,
     "metadata": {},
     "output_type": "execute_result"
    }
   ],
   "source": [
    "# make a jax-based Enum\n",
    "# is iterable'\n",
    "# is indexable\n",
    "# can start at offset\n",
    "# has a length"
   ]
  },
  {
   "cell_type": "code",
   "execution_count": 33,
   "metadata": {},
   "outputs": [],
   "source": [
    "class Enum:\n",
    "    def __init__(self, f, size):\n",
    "        self.f = f\n",
    "        self.size = size\n",
    "    \n",
    "    def batch(self, batch_size):\n",
    "        return Enum(lambda x: self[x*batch_size:(x+1)*batch_size], self.size / batch_size) \n",
    "\n",
    "    # is this jittable?\n",
    "    def __getitem__(self, key):\n",
    "        if type(key) == int:\n",
    "            if 0 <= key < self.size:\n",
    "                return self.f(key)\n",
    "            else:\n",
    "                raise IndexError()  \n",
    "        elif type(key) == slice:\n",
    "            return vmap(self.f)(np.arange(key.start, key.stop))"
   ]
  },
  {
   "cell_type": "code",
   "execution_count": 32,
   "metadata": {},
   "outputs": [
    {
     "name": "stdout",
     "output_type": "stream",
     "text": [
      "less\n",
      "slice\n",
      "[ 1  2  3  4  5  6  7  8  9 10]\n",
      "less\n",
      "slice\n",
      "[11 12 13 14 15 16 17 18 19 20]\n",
      "less\n",
      "slice\n",
      "[21 22 23 24 25 26 27 28 29 30]\n",
      "less\n",
      "slice\n",
      "[31 32 33 34 35 36 37 38 39 40]\n",
      "less\n",
      "slice\n",
      "[41 42 43 44 45 46 47 48 49 50]\n",
      "less\n",
      "slice\n",
      "[51 52 53 54 55 56 57 58 59 60]\n",
      "less\n",
      "slice\n",
      "[61 62 63 64 65 66 67 68 69 70]\n",
      "less\n",
      "slice\n",
      "[71 72 73 74 75 76 77 78 79 80]\n",
      "less\n",
      "slice\n",
      "[81 82 83 84 85 86 87 88 89 90]\n",
      "less\n",
      "slice\n",
      "[ 91  92  93  94  95  96  97  98  99 100]\n",
      "error\n"
     ]
    }
   ],
   "source": [
    "for x in t1:\n",
    "    print(x)"
   ]
  },
  {
   "cell_type": "code",
   "execution_count": null,
   "metadata": {},
   "outputs": [],
   "source": []
  }
 ],
 "metadata": {
  "interpreter": {
   "hash": "d4d1e4263499bec80672ea0156c357c1ee493ec2b1c70f0acce89fc37c4a6abe"
  },
  "kernelspec": {
   "display_name": "Python 3.8.5 64-bit ('base': conda)",
   "language": "python",
   "name": "python3"
  },
  "language_info": {
   "codemirror_mode": {
    "name": "ipython",
    "version": 3
   },
   "file_extension": ".py",
   "mimetype": "text/x-python",
   "name": "python",
   "nbconvert_exporter": "python",
   "pygments_lexer": "ipython3",
   "version": "3.8.10"
  },
  "orig_nbformat": 4
 },
 "nbformat": 4,
 "nbformat_minor": 2
}
